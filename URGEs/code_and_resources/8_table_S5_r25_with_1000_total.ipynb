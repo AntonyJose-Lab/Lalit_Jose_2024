{
 "cells": [
  {
   "cell_type": "code",
   "execution_count": 1,
   "metadata": {},
   "outputs": [],
   "source": [
    "import pandas as pd\n",
    "import os\n",
    "import matplotlib.pyplot as plt\n",
    "import seaborn as sns\n",
    "import warnings"
   ]
  },
  {
   "cell_type": "code",
   "execution_count": 2,
   "metadata": {},
   "outputs": [],
   "source": [
    "warnings.filterwarnings(\"ignore\")"
   ]
  },
  {
   "cell_type": "code",
   "execution_count": 3,
   "metadata": {},
   "outputs": [],
   "source": [
    "# reading in the table occupancy sheet to choose the top genes\n",
    "genesheet = pd.read_csv(\"TableOccupancy_full.csv\")\n",
    "genelist = list()\n",
    "genedict = dict()\n",
    "genedict1 = dict()"
   ]
  },
  {
   "cell_type": "code",
   "execution_count": 4,
   "metadata": {},
   "outputs": [],
   "source": [
    "# setting the number of genes to be analyzed\n",
    "all_count = 1000\n",
    "top_count = 25"
   ]
  },
  {
   "cell_type": "code",
   "execution_count": 5,
   "metadata": {},
   "outputs": [],
   "source": [
    "# creating a dictionary for the top genes\n",
    "genedict = dict((d['Gene'], d['Count']) for d in genesheet.head(all_count)[['Gene', 'Count']].to_dict(orient='records'))"
   ]
  },
  {
   "cell_type": "code",
   "execution_count": 6,
   "metadata": {},
   "outputs": [],
   "source": [
    "# adding number of references to the dataframe\n",
    "\n",
    "collist = list()\n",
    "colref = list()\n",
    "\n",
    "db_ref = pd.read_excel(f\"simplemine_results_TableOccupancy_full_27Sep2024.xlsx\", comment=\"#\")\n",
    "\n",
    "for gene in genedict.keys():\n",
    "    geneindex = db_ref[db_ref[\"Your Input\"] == gene].index[0]\n",
    "    line = db_ref.at[geneindex, \"Reference\"]\n",
    "    collist.append(str(line))\n",
    "      \n",
    "for element in collist:\n",
    "    new = element.split(',')\n",
    "    if new != ['N.A.']:\n",
    "        colref.append(len(new))\n",
    "    else:\n",
    "        colref.append(0)"
   ]
  },
  {
   "cell_type": "code",
   "execution_count": 7,
   "metadata": {},
   "outputs": [],
   "source": [
    "df = pd.DataFrame(genedict.keys())"
   ]
  },
  {
   "cell_type": "code",
   "execution_count": 8,
   "metadata": {},
   "outputs": [],
   "source": [
    "df.columns = ['Gene']"
   ]
  },
  {
   "cell_type": "code",
   "execution_count": 9,
   "metadata": {},
   "outputs": [
    {
     "data": {
      "text/html": [
       "<div>\n",
       "<style scoped>\n",
       "    .dataframe tbody tr th:only-of-type {\n",
       "        vertical-align: middle;\n",
       "    }\n",
       "\n",
       "    .dataframe tbody tr th {\n",
       "        vertical-align: top;\n",
       "    }\n",
       "\n",
       "    .dataframe thead th {\n",
       "        text-align: right;\n",
       "    }\n",
       "</style>\n",
       "<table border=\"1\" class=\"dataframe\">\n",
       "  <thead>\n",
       "    <tr style=\"text-align: right;\">\n",
       "      <th></th>\n",
       "      <th>Gene</th>\n",
       "    </tr>\n",
       "  </thead>\n",
       "  <tbody>\n",
       "    <tr>\n",
       "      <th>0</th>\n",
       "      <td>WBGene00021107</td>\n",
       "    </tr>\n",
       "    <tr>\n",
       "      <th>1</th>\n",
       "      <td>WBGene00021106</td>\n",
       "    </tr>\n",
       "    <tr>\n",
       "      <th>2</th>\n",
       "      <td>WBGene00017069</td>\n",
       "    </tr>\n",
       "    <tr>\n",
       "      <th>3</th>\n",
       "      <td>WBGene00016953</td>\n",
       "    </tr>\n",
       "    <tr>\n",
       "      <th>4</th>\n",
       "      <td>WBGene00007454</td>\n",
       "    </tr>\n",
       "  </tbody>\n",
       "</table>\n",
       "</div>"
      ],
      "text/plain": [
       "             Gene\n",
       "0  WBGene00021107\n",
       "1  WBGene00021106\n",
       "2  WBGene00017069\n",
       "3  WBGene00016953\n",
       "4  WBGene00007454"
      ]
     },
     "execution_count": 9,
     "metadata": {},
     "output_type": "execute_result"
    }
   ],
   "source": [
    "df.head()"
   ]
  },
  {
   "cell_type": "code",
   "execution_count": 10,
   "metadata": {},
   "outputs": [],
   "source": [
    "# creating a new column in the df called 'References'\n",
    "df['References'] = colref"
   ]
  },
  {
   "cell_type": "code",
   "execution_count": 11,
   "metadata": {},
   "outputs": [
    {
     "data": {
      "text/html": [
       "<div>\n",
       "<style scoped>\n",
       "    .dataframe tbody tr th:only-of-type {\n",
       "        vertical-align: middle;\n",
       "    }\n",
       "\n",
       "    .dataframe tbody tr th {\n",
       "        vertical-align: top;\n",
       "    }\n",
       "\n",
       "    .dataframe thead th {\n",
       "        text-align: right;\n",
       "    }\n",
       "</style>\n",
       "<table border=\"1\" class=\"dataframe\">\n",
       "  <thead>\n",
       "    <tr style=\"text-align: right;\">\n",
       "      <th></th>\n",
       "      <th>Gene</th>\n",
       "      <th>References</th>\n",
       "    </tr>\n",
       "  </thead>\n",
       "  <tbody>\n",
       "    <tr>\n",
       "      <th>0</th>\n",
       "      <td>WBGene00021107</td>\n",
       "      <td>0</td>\n",
       "    </tr>\n",
       "    <tr>\n",
       "      <th>1</th>\n",
       "      <td>WBGene00021106</td>\n",
       "      <td>0</td>\n",
       "    </tr>\n",
       "    <tr>\n",
       "      <th>2</th>\n",
       "      <td>WBGene00017069</td>\n",
       "      <td>3</td>\n",
       "    </tr>\n",
       "    <tr>\n",
       "      <th>3</th>\n",
       "      <td>WBGene00016953</td>\n",
       "      <td>1</td>\n",
       "    </tr>\n",
       "    <tr>\n",
       "      <th>4</th>\n",
       "      <td>WBGene00007454</td>\n",
       "      <td>0</td>\n",
       "    </tr>\n",
       "    <tr>\n",
       "      <th>...</th>\n",
       "      <td>...</td>\n",
       "      <td>...</td>\n",
       "    </tr>\n",
       "    <tr>\n",
       "      <th>995</th>\n",
       "      <td>WBGene00022564</td>\n",
       "      <td>0</td>\n",
       "    </tr>\n",
       "    <tr>\n",
       "      <th>996</th>\n",
       "      <td>WBGene00012855</td>\n",
       "      <td>1</td>\n",
       "    </tr>\n",
       "    <tr>\n",
       "      <th>997</th>\n",
       "      <td>WBGene00007331</td>\n",
       "      <td>1</td>\n",
       "    </tr>\n",
       "    <tr>\n",
       "      <th>998</th>\n",
       "      <td>WBGene00009115</td>\n",
       "      <td>0</td>\n",
       "    </tr>\n",
       "    <tr>\n",
       "      <th>999</th>\n",
       "      <td>WBGene00012624</td>\n",
       "      <td>1</td>\n",
       "    </tr>\n",
       "  </tbody>\n",
       "</table>\n",
       "<p>1000 rows × 2 columns</p>\n",
       "</div>"
      ],
      "text/plain": [
       "               Gene  References\n",
       "0    WBGene00021107           0\n",
       "1    WBGene00021106           0\n",
       "2    WBGene00017069           3\n",
       "3    WBGene00016953           1\n",
       "4    WBGene00007454           0\n",
       "..              ...         ...\n",
       "995  WBGene00022564           0\n",
       "996  WBGene00012855           1\n",
       "997  WBGene00007331           1\n",
       "998  WBGene00009115           0\n",
       "999  WBGene00012624           1\n",
       "\n",
       "[1000 rows x 2 columns]"
      ]
     },
     "execution_count": 11,
     "metadata": {},
     "output_type": "execute_result"
    }
   ],
   "source": [
    "df"
   ]
  },
  {
   "cell_type": "code",
   "execution_count": 12,
   "metadata": {},
   "outputs": [],
   "source": [
    "# creating a list of files in the database\n",
    "filelist = os.listdir(\"../data_full\")\n",
    "filelist.remove(\".DS_Store\") if \".DS_Store\" in filelist else None"
   ]
  },
  {
   "cell_type": "code",
   "execution_count": 13,
   "metadata": {},
   "outputs": [],
   "source": [
    "# changing the working directory\n",
    "os.chdir(\"../data_full\")"
   ]
  },
  {
   "cell_type": "code",
   "execution_count": 14,
   "metadata": {},
   "outputs": [],
   "source": [
    "# creating a list of file names to be iterated over\n",
    "\n",
    "newcolname = list()\n",
    "filedict = dict()\n",
    "\n",
    "for file in filelist:\n",
    "    db = pd.read_csv(file, comment=\"#\")\n",
    "    numgene = len(db)\n",
    "    filedict[file] = numgene\n",
    "\n",
    "newdict = dict(sorted(filedict.items(), key=lambda item: item[1], reverse=True))\n",
    "\n",
    "filelist = list(newdict.keys())"
   ]
  },
  {
   "cell_type": "code",
   "execution_count": 15,
   "metadata": {},
   "outputs": [],
   "source": [
    "# calculating the r-score for each gene\n",
    "count = 0\n",
    "N = len(filelist)\n",
    "arr = list()\n",
    "r_list = list()\n",
    "for gene in genedict:\n",
    "    count += 1\n",
    "    n = 0\n",
    "    S_list = []\n",
    "    T_list = [] \n",
    "    for file in filelist:\n",
    "        db = pd.read_csv(file, comment=\"#\")\n",
    "        S = 0\n",
    "        T_list.append(len(db))\n",
    "        if gene in db[\"Suggested Match\"].values:\n",
    "            S += 1\n",
    "        if S > 0:\n",
    "            n += 1\n",
    "            \n",
    "        S_list.append(S)\n",
    "    arr.append(S_list)\n",
    "    \n",
    "    r = 0\n",
    "    for i in range(n):\n",
    "        r += S_list[i] / T_list[i]\n",
    "    \n",
    "    r_list.append(r)\n"
   ]
  },
  {
   "cell_type": "code",
   "execution_count": 16,
   "metadata": {},
   "outputs": [],
   "source": [
    "df['r'] = r_list"
   ]
  },
  {
   "cell_type": "code",
   "execution_count": 17,
   "metadata": {},
   "outputs": [],
   "source": [
    "df.sort_values(by='r', ascending=False, inplace=True)\n",
    "df.reset_index(inplace=True, drop=True)\n",
    "df = df.head(top_count)"
   ]
  },
  {
   "cell_type": "code",
   "execution_count": 18,
   "metadata": {},
   "outputs": [],
   "source": [
    "genes = df['Gene']\n"
   ]
  },
  {
   "cell_type": "code",
   "execution_count": 19,
   "metadata": {},
   "outputs": [],
   "source": [
    "os.chdir(\"../code_and_resources\")\n",
    "wormbase = pd.read_csv('Wormbase_Gene_Sanitizer_Database_DownloadedOn_10-30-2023.txt', comment=\"#\", sep=\"\\t\")"
   ]
  },
  {
   "cell_type": "code",
   "execution_count": 20,
   "metadata": {},
   "outputs": [],
   "source": [
    "new_names = []\n",
    "for gene in genes:\n",
    "    result = wormbase.index[wormbase[\"Public Name For\"] == gene].item()\n",
    "    new_names.append(wormbase.iloc[result, 0])"
   ]
  },
  {
   "cell_type": "code",
   "execution_count": 21,
   "metadata": {},
   "outputs": [],
   "source": [
    "df['Gene'] = new_names"
   ]
  },
  {
   "cell_type": "code",
   "execution_count": 22,
   "metadata": {},
   "outputs": [
    {
     "data": {
      "image/png": "[encoded data removed]",
      "text/plain": [
       "<Figure size 1000x500 with 1 Axes>"
      ]
     },
     "metadata": {},
     "output_type": "display_data"
    }
   ],
   "source": [
    "plt.figure(figsize=(10, 5))\n",
    "fig1= sns.barplot(x='Gene', y='References', data=df, color='white', edgecolor='black')\n",
    "\n",
    "plt.xlabel('Gene')\n",
    "plt.ylabel('Number of References')\n",
    "plt.xticks(rotation=90)\n",
    "\n",
    "plt.savefig('r25_references_with_1000_total.svg', format='svg', dpi=300)\n",
    "plt.tight_layout()\n"
   ]
  }
 ],
 "metadata": {
  "kernelspec": {
   "display_name": "base",
   "language": "python",
   "name": "python3"
  },
  "language_info": {
   "codemirror_mode": {
    "name": "ipython",
    "version": 3
   },
   "file_extension": ".py",
   "mimetype": "text/x-python",
   "name": "python",
   "nbconvert_exporter": "python",
   "pygments_lexer": "ipython3",
   "version": "3.8.19"
  }
 },
 "nbformat": 4,
 "nbformat_minor": 2
}
